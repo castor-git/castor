{
  "nbformat": 4,
  "nbformat_minor": 0,
  "metadata": {
    "colab": {
      "provenance": [],
      "toc_visible": true,
      "include_colab_link": true
    },
    "kernelspec": {
      "name": "python3",
      "display_name": "Python 3"
    },
    "language_info": {
      "name": "python"
    }
  },
  "cells": [
    {
      "cell_type": "markdown",
      "metadata": {
        "id": "view-in-github",
        "colab_type": "text"
      },
      "source": [
        "<a href=\"https://colab.research.google.com/github/castor-git/castor/blob/master/docs/assistant-quickstart.ipynb\" target=\"_parent\"><img src=\"https://colab.research.google.com/assets/colab-badge.svg\" alt=\"Open In Colab\"/></a>"
      ]
    },
    {
      "cell_type": "markdown",
      "source": [
        "# 1. Install the Python SDK and plugin"
      ],
      "metadata": {
        "id": "cEDloXVheB4N"
      }
    },
    {
      "cell_type": "code",
      "execution_count": 1,
      "metadata": {
        "colab": {
          "base_uri": "https://localhost:8080/"
        },
        "id": "ksCBU9Gmdwth",
        "outputId": "a2c25c14-dca2-4471-d22a-9238b2e509d0",
        "collapsed": true
      },
      "outputs": [
        {
          "output_type": "stream",
          "name": "stdout",
          "text": [
            "Requirement already satisfied: pinecone in /usr/local/lib/python3.12/dist-packages (7.3.0)\n",
            "Requirement already satisfied: pinecone-plugin-assistant in /usr/local/lib/python3.12/dist-packages (1.8.0)\n",
            "Requirement already satisfied: certifi>=2019.11.17 in /usr/local/lib/python3.12/dist-packages (from pinecone) (2025.8.3)\n",
            "Requirement already satisfied: pinecone-plugin-interface<0.0.8,>=0.0.7 in /usr/local/lib/python3.12/dist-packages (from pinecone) (0.0.7)\n",
            "Requirement already satisfied: python-dateutil>=2.5.3 in /usr/local/lib/python3.12/dist-packages (from pinecone) (2.9.0.post0)\n",
            "Requirement already satisfied: typing-extensions>=3.7.4 in /usr/local/lib/python3.12/dist-packages (from pinecone) (4.15.0)\n",
            "Requirement already satisfied: urllib3>=1.26.5 in /usr/local/lib/python3.12/dist-packages (from pinecone) (2.5.0)\n",
            "Requirement already satisfied: packaging<25.0,>=24.2 in /usr/local/lib/python3.12/dist-packages (from pinecone-plugin-assistant) (24.2)\n",
            "Requirement already satisfied: requests<3.0.0,>=2.32.3 in /usr/local/lib/python3.12/dist-packages (from pinecone-plugin-assistant) (2.32.4)\n",
            "Requirement already satisfied: six>=1.5 in /usr/local/lib/python3.12/dist-packages (from python-dateutil>=2.5.3->pinecone) (1.17.0)\n",
            "Requirement already satisfied: charset_normalizer<4,>=2 in /usr/local/lib/python3.12/dist-packages (from requests<3.0.0,>=2.32.3->pinecone-plugin-assistant) (3.4.3)\n",
            "Requirement already satisfied: idna<4,>=2.5 in /usr/local/lib/python3.12/dist-packages (from requests<3.0.0,>=2.32.3->pinecone-plugin-assistant) (3.10)\n"
          ]
        }
      ],
      "source": [
        "!pip install pinecone pinecone-plugin-assistant"
      ]
    },
    {
      "cell_type": "markdown",
      "source": [
        "# 2. Connect to Pinecone"
      ],
      "metadata": {
        "id": "fsC7xIQ3fVtr"
      }
    },
    {
      "cell_type": "markdown",
      "source": [
        "You need an API key to make calls to your assistant.\n",
        "\n",
        "Use the widget below to generate a key. If you don't have a Pinecone account, the widget will sign you up for the free Starter plan."
      ],
      "metadata": {
        "id": "UiMBRlfbqppr"
      }
    },
    {
      "cell_type": "code",
      "source": [
        "# install dependencies\n",
        "\n",
        "!pip install -qU pinecone-notebooks\n",
        "\n",
        "from pinecone_notebooks.colab import Authenticate\n",
        "\n",
        "Authenticate()\n"
      ],
      "metadata": {
        "colab": {
          "base_uri": "https://localhost:8080/",
          "height": 247
        },
        "id": "deH4kHxMeNhS",
        "outputId": "d44025a8-4309-437f-8d2c-91ecf347bbfa",
        "collapsed": true
      },
      "execution_count": 2,
      "outputs": [
        {
          "output_type": "display_data",
          "data": {
            "text/plain": [
              "<IPython.core.display.HTML object>"
            ],
            "text/html": [
              "<script type=\"text/javascript\" src=\"https://connect.pinecone.io/embed.js\"></script>"
            ]
          },
          "metadata": {}
        }
      ]
    },
    {
      "cell_type": "markdown",
      "source": [
        "Save your API key to use throughout the notebook:"
      ],
      "metadata": {
        "id": "n6RHk7fBqyYA"
      }
    },
    {
      "cell_type": "code",
      "source": [
        "import os\n",
        "api_key = os.environ.get(\"pcsk_5S4exG_R1dzxgaX4c4qSac2NXrn1CMBpjeKA33kVT76sToqkSZhU9pqBWbyj4BCvJkTWQF\")"
      ],
      "metadata": {
        "collapsed": true,
        "id": "BD2D4hW5gNEd"
      },
      "execution_count": 3,
      "outputs": []
    },
    {
      "cell_type": "markdown",
      "source": [
        "# 3. Create assistant"
      ],
      "metadata": {
        "id": "WQ8kvr8d_dDo"
      }
    },
    {
      "cell_type": "code",
      "source": [
        "from pinecone import Pinecone\n",
        "\n",
        "pc = Pinecone(api_key=api_key)\n",
        "\n",
        "assistant = pc.assistant.create_assistant(\n",
        "    assistant_name=\"quickstart-assistant\",\n",
        "    instructions=\"Use American English for spelling and grammar.\", # Description or directive for the assistant to apply to all responses.\n",
        "    timeout=30 # Maximum seconds to wait for assistant status to become \"Ready\" before timing out.\n",
        ")"
      ],
      "metadata": {
        "id": "lgxiqpt998lp",
        "outputId": "ab602c67-c0c5-45e8-c34e-23da1bfd4e37",
        "colab": {
          "base_uri": "https://localhost:8080/",
          "height": 408
        }
      },
      "execution_count": 4,
      "outputs": [
        {
          "output_type": "error",
          "ename": "PineconeConfigurationError",
          "evalue": "You haven't specified an API key. Please either set the PINECONE_API_KEY environment variable or pass the 'api_key' keyword argument to the Pinecone client constructor.",
          "traceback": [
            "\u001b[0;31m---------------------------------------------------------------------------\u001b[0m",
            "\u001b[0;31mPineconeConfigurationError\u001b[0m                Traceback (most recent call last)",
            "\u001b[0;32m/tmp/ipython-input-4093737170.py\u001b[0m in \u001b[0;36m<cell line: 0>\u001b[0;34m()\u001b[0m\n\u001b[1;32m      1\u001b[0m \u001b[0;32mfrom\u001b[0m \u001b[0mpinecone\u001b[0m \u001b[0;32mimport\u001b[0m \u001b[0mPinecone\u001b[0m\u001b[0;34m\u001b[0m\u001b[0;34m\u001b[0m\u001b[0m\n\u001b[1;32m      2\u001b[0m \u001b[0;34m\u001b[0m\u001b[0m\n\u001b[0;32m----> 3\u001b[0;31m \u001b[0mpc\u001b[0m \u001b[0;34m=\u001b[0m \u001b[0mPinecone\u001b[0m\u001b[0;34m(\u001b[0m\u001b[0mapi_key\u001b[0m\u001b[0;34m=\u001b[0m\u001b[0mapi_key\u001b[0m\u001b[0;34m)\u001b[0m\u001b[0;34m\u001b[0m\u001b[0;34m\u001b[0m\u001b[0m\n\u001b[0m\u001b[1;32m      4\u001b[0m \u001b[0;34m\u001b[0m\u001b[0m\n\u001b[1;32m      5\u001b[0m assistant = pc.assistant.create_assistant(\n",
            "\u001b[0;32m/usr/local/lib/python3.12/dist-packages/pinecone/pinecone.py\u001b[0m in \u001b[0;36m__init__\u001b[0;34m(self, api_key, host, proxy_url, proxy_headers, ssl_ca_certs, ssl_verify, additional_headers, pool_threads, **kwargs)\u001b[0m\n\u001b[1;32m    214\u001b[0m                 )\n\u001b[1;32m    215\u001b[0m \u001b[0;34m\u001b[0m\u001b[0m\n\u001b[0;32m--> 216\u001b[0;31m         self._config = PineconeConfig.build(\n\u001b[0m\u001b[1;32m    217\u001b[0m             \u001b[0mapi_key\u001b[0m\u001b[0;34m=\u001b[0m\u001b[0mapi_key\u001b[0m\u001b[0;34m,\u001b[0m\u001b[0;34m\u001b[0m\u001b[0;34m\u001b[0m\u001b[0m\n\u001b[1;32m    218\u001b[0m             \u001b[0mhost\u001b[0m\u001b[0;34m=\u001b[0m\u001b[0mhost\u001b[0m\u001b[0;34m,\u001b[0m\u001b[0;34m\u001b[0m\u001b[0;34m\u001b[0m\u001b[0m\n",
            "\u001b[0;32m/usr/local/lib/python3.12/dist-packages/pinecone/config/pinecone_config.py\u001b[0m in \u001b[0;36mbuild\u001b[0;34m(api_key, host, additional_headers, **kwargs)\u001b[0m\n\u001b[1;32m     33\u001b[0m                 \u001b[0mlogger\u001b[0m\u001b[0;34m.\u001b[0m\u001b[0mwarn\u001b[0m\u001b[0;34m(\u001b[0m\u001b[0;34mf\"Ignoring PINECONE_ADDITIONAL_HEADERS: {e}\"\u001b[0m\u001b[0;34m)\u001b[0m\u001b[0;34m\u001b[0m\u001b[0;34m\u001b[0m\u001b[0m\n\u001b[1;32m     34\u001b[0m \u001b[0;34m\u001b[0m\u001b[0m\n\u001b[0;32m---> 35\u001b[0;31m         return ConfigBuilder.build(\n\u001b[0m\u001b[1;32m     36\u001b[0m             \u001b[0mapi_key\u001b[0m\u001b[0;34m=\u001b[0m\u001b[0mapi_key\u001b[0m\u001b[0;34m,\u001b[0m \u001b[0mhost\u001b[0m\u001b[0;34m=\u001b[0m\u001b[0mhost\u001b[0m\u001b[0;34m,\u001b[0m \u001b[0madditional_headers\u001b[0m\u001b[0;34m=\u001b[0m\u001b[0madditional_headers\u001b[0m\u001b[0;34m,\u001b[0m \u001b[0;34m**\u001b[0m\u001b[0mkwargs\u001b[0m\u001b[0;34m\u001b[0m\u001b[0;34m\u001b[0m\u001b[0m\n\u001b[1;32m     37\u001b[0m         )\n",
            "\u001b[0;32m/usr/local/lib/python3.12/dist-packages/pinecone/config/config.py\u001b[0m in \u001b[0;36mbuild\u001b[0;34m(api_key, host, proxy_url, proxy_headers, ssl_ca_certs, ssl_verify, additional_headers, **kwargs)\u001b[0m\n\u001b[1;32m     65\u001b[0m \u001b[0;34m\u001b[0m\u001b[0m\n\u001b[1;32m     66\u001b[0m         \u001b[0;32mif\u001b[0m \u001b[0;32mnot\u001b[0m \u001b[0mapi_key\u001b[0m\u001b[0;34m:\u001b[0m\u001b[0;34m\u001b[0m\u001b[0;34m\u001b[0m\u001b[0m\n\u001b[0;32m---> 67\u001b[0;31m             raise PineconeConfigurationError(\n\u001b[0m\u001b[1;32m     68\u001b[0m                 \u001b[0;34m\"You haven't specified an API key. Please either set the PINECONE_API_KEY environment variable or pass the 'api_key' keyword argument to the Pinecone client constructor.\"\u001b[0m\u001b[0;34m\u001b[0m\u001b[0;34m\u001b[0m\u001b[0m\n\u001b[1;32m     69\u001b[0m             )\n",
            "\u001b[0;31mPineconeConfigurationError\u001b[0m: You haven't specified an API key. Please either set the PINECONE_API_KEY environment variable or pass the 'api_key' keyword argument to the Pinecone client constructor."
          ]
        }
      ]
    },
    {
      "cell_type": "markdown",
      "source": [
        "# 3. Upload data"
      ],
      "metadata": {
        "id": "r-iplfI7h5dt"
      }
    },
    {
      "cell_type": "markdown",
      "source": [
        "For this quickstart, [download a sample 10-k filing file](https://s22.q4cdn.com/959853165/files/doc_financials/2023/ar/Netflix-10-K-01262024.pdf) to your local device. Then, upload it to the notebook's local files."
      ],
      "metadata": {
        "id": "EYo0nBP1oJ6n"
      }
    },
    {
      "cell_type": "code",
      "source": [
        "# Get the assistant\n",
        "\n",
        "from pinecone import Pinecone\n",
        "\n",
        "pc = Pinecone(api_key)\n",
        "\n",
        "assistant = pc.assistant.Assistant(\n",
        "    assistant_name=\"quickstart-assistant\",\n",
        ")\n",
        "\n",
        "# Upload a file.\n",
        "response = assistant.upload_file(\n",
        "    file_path=\"/Netflix-10-K-01262024.pdf\",\n",
        "    metadata={\"medium\": \"filing\"},\n",
        "    timeout=None\n",
        ")\n",
        "\n",
        "print(\"File uploaded.\")\n"
      ],
      "metadata": {
        "id": "oqLgT7ajh8ck"
      },
      "execution_count": null,
      "outputs": []
    },
    {
      "cell_type": "markdown",
      "source": [
        "# 4. View files"
      ],
      "metadata": {
        "id": "TBwqjWsTjV0G"
      }
    },
    {
      "cell_type": "code",
      "source": [
        "from pinecone import Pinecone\n",
        "import pprint\n",
        "\n",
        "pc = Pinecone(api_key)\n",
        "\n",
        "assistant = pc.assistant.Assistant(\n",
        "    assistant_name=\"quickstart-assistant\",\n",
        ")\n",
        "\n",
        "# List files in your assistant.\n",
        "files = assistant.list_files()\n",
        "\n",
        "pprint.pp(files)"
      ],
      "metadata": {
        "id": "--ANos4ejbS0"
      },
      "execution_count": null,
      "outputs": []
    },
    {
      "cell_type": "markdown",
      "source": [
        "# 5. Chat with assistant"
      ],
      "metadata": {
        "id": "2DQyaBgijta-"
      }
    },
    {
      "cell_type": "code",
      "source": [
        "# Chat with the assistant.\n",
        "from pinecone_plugins.assistant.models.chat import Message\n",
        "\n",
        "chat_context = [Message(role=\"user\", content=\"Who is Netflix's CEO and CFO?\")]\n",
        "response = assistant.chat(messages=chat_context)\n",
        "\n",
        "pprint.pp(response)"
      ],
      "metadata": {
        "id": "MnEZtebRjtEk"
      },
      "execution_count": null,
      "outputs": []
    },
    {
      "cell_type": "markdown",
      "source": [
        "# 6. Evaluate the answer"
      ],
      "metadata": {
        "id": "6CKK8LsbxcbY"
      }
    },
    {
      "cell_type": "markdown",
      "source": [
        "Evaluate the correctness and completeness of a response from an assistant. For more information, refer to [Understanding evaluation](https://docs.pinecone.io/guides/assistant/understanding-evaluation)."
      ],
      "metadata": {
        "id": "ZjXSG5exrKgM"
      }
    },
    {
      "cell_type": "code",
      "source": [
        "import requests\n",
        "\n",
        "answer = response.message.content\n",
        "\n",
        "eval_data = {\n",
        "    \"question\": \"Who is Netflix's CEO and CFO?\",\n",
        "    \"answer\": answer,\n",
        "    \"ground_truth_answer\": \"Ted Sarandos is co-CEO, Greg Peters is co-CEO, and Spencer Neumann is CFO.\"\n",
        "}\n",
        "\n",
        "\n",
        "headers = {\n",
        "    \"Api-Key\": api_key,\n",
        "    \"Content-Type\": \"application/json\"\n",
        "}\n",
        "\n",
        "url = \"https://prod-1-data.ke.pinecone.io/assistant/evaluation/metrics/alignment\"\n",
        "\n",
        "eval_response = requests.request(\"POST\", url, json=eval_data, headers=headers)\n",
        "\n",
        "pprint.pp(eval_response.text)"
      ],
      "metadata": {
        "id": "QnYoZGeZoCXE"
      },
      "execution_count": null,
      "outputs": []
    },
    {
      "cell_type": "markdown",
      "source": [
        "# 7. Retrieve context snippets"
      ],
      "metadata": {
        "id": "9YLK4VPuBjiz"
      }
    },
    {
      "cell_type": "markdown",
      "source": [
        "You can retrieve the context snippets that Pinecone Assistant uses to generate its responses. This data includes relevant chunks, relevancy scores, and references. For more information, refer to [Understanding context snippets](https://docs.pinecone.io/guides/assistant/understanding-context-snippets)."
      ],
      "metadata": {
        "id": "gFupKik4rWA_"
      }
    },
    {
      "cell_type": "code",
      "source": [
        "response_snippets = assistant.context(query=chat_context[0].content)\n",
        "\n",
        "for snippet in response_snippets.snippets:\n",
        "  pprint.pp(snippet)"
      ],
      "metadata": {
        "id": "nsWw70hGBuyu"
      },
      "execution_count": null,
      "outputs": []
    },
    {
      "cell_type": "markdown",
      "source": [
        "# 8. Clean up\n",
        "\n",
        "When you no longer need the quickstart-assistant, delete the it:"
      ],
      "metadata": {
        "id": "CH08RptSrmcX"
      }
    },
    {
      "cell_type": "code",
      "source": [
        "from pinecone import Pinecone\n",
        "pc = Pinecone(api_key=\"YOUR_API_KEY\")\n",
        "\n",
        "pc.assistant.delete_assistant(\n",
        "    assistant_name=\"example-assistant\",\n",
        ")\n",
        "\n",
        "# Deleting an assistant also deletes all files uploaded to the assistant."
      ],
      "metadata": {
        "id": "QJZuKup3ruIR"
      },
      "execution_count": null,
      "outputs": []
    }
  ]
}